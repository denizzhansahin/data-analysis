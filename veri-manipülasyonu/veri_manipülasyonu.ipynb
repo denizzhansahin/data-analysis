{
 "cells": [
  {
   "attachments": {},
   "cell_type": "markdown",
   "metadata": {},
   "source": [
    "Liste Çarpma"
   ]
  },
  {
   "cell_type": "code",
   "execution_count": 2,
   "metadata": {},
   "outputs": [
    {
     "name": "stdout",
     "output_type": "stream",
     "text": [
      "[2, 6, 12, 20, 30]\n"
     ]
    }
   ],
   "source": [
    "a = [1,2,3,4,5]\n",
    "b = [2,3,4,5,6]\n",
    "ab = []\n",
    "for i in range(len(a)):\n",
    "    ab.append(a[i]*b[i])\n",
    "\n",
    "print(ab)"
   ]
  },
  {
   "cell_type": "code",
   "execution_count": 4,
   "metadata": {},
   "outputs": [
    {
     "name": "stdout",
     "output_type": "stream",
     "text": [
      "[ 2  6 12 20 30]\n"
     ]
    }
   ],
   "source": [
    "import numpy as np\n",
    "a = np.array([1,2,3,4,5])\n",
    "b = np.array([2,3,4,5,6])\n",
    "print(a*b)"
   ]
  },
  {
   "attachments": {},
   "cell_type": "markdown",
   "metadata": {},
   "source": [
    "Array Oluşturma"
   ]
  },
  {
   "cell_type": "code",
   "execution_count": 7,
   "metadata": {},
   "outputs": [
    {
     "name": "stdout",
     "output_type": "stream",
     "text": [
      "[1 2 3 4 5]\n",
      "<class 'numpy.ndarray'>\n",
      "[3 5 6]\n",
      "<class 'numpy.ndarray'>\n",
      "[3.    4.    4.555 5.222]\n",
      "<class 'numpy.ndarray'>\n"
     ]
    }
   ],
   "source": [
    "import numpy as np\n",
    "a = np.array([1,2,3,4,5])\n",
    "print(a)\n",
    "print(type(a))\n",
    "\n",
    "b = np.array([3.22,5,6.444], dtype=\"int\")\n",
    "print(b)\n",
    "print(type(b))\n",
    "\n",
    "c = np.array([3,4,4.555,5.222], dtype=\"float\")\n",
    "print(c)\n",
    "print(type(c))"
   ]
  },
  {
   "cell_type": "code",
   "execution_count": 8,
   "metadata": {},
   "outputs": [
    {
     "name": "stdout",
     "output_type": "stream",
     "text": [
      "[0. 0. 0. 0. 0. 0. 0. 0. 0. 0.]\n",
      "[0. 0. 0. 0. 0. 0. 0. 0. 0. 0.]\n"
     ]
    }
   ],
   "source": [
    "a = np.zeros(10) #0 ile matris oluşturma\n",
    "print(a)\n",
    "a = np.zeros(10,dtype=\"float\")\n",
    "print(a)"
   ]
  },
  {
   "cell_type": "code",
   "execution_count": 9,
   "metadata": {},
   "outputs": [
    {
     "name": "stdout",
     "output_type": "stream",
     "text": [
      "[[1 1 1 1 1]\n",
      " [1 1 1 1 1]\n",
      " [1 1 1 1 1]]\n"
     ]
    }
   ],
   "source": [
    "a = np.ones((3,5), dtype=\"int\") #1 ile matris oluşturma\n",
    "print(a)"
   ]
  },
  {
   "cell_type": "code",
   "execution_count": 10,
   "metadata": {},
   "outputs": [
    {
     "name": "stdout",
     "output_type": "stream",
     "text": [
      "[[5. 5. 5. 5.]\n",
      " [5. 5. 5. 5.]\n",
      " [5. 5. 5. 5.]\n",
      " [5. 5. 5. 5.]]\n"
     ]
    }
   ],
   "source": [
    "a = np.full((4,4),5,dtype=\"float\") #istenilen değer için matris oluşturma\n",
    "print(a)"
   ]
  },
  {
   "cell_type": "code",
   "execution_count": 11,
   "metadata": {},
   "outputs": [
    {
     "name": "stdout",
     "output_type": "stream",
     "text": [
      "[ 0  3  6  9 12 15 18 21 24 27 30]\n"
     ]
    }
   ],
   "source": [
    "a = np.arange(0,32,3) # range ile liste oluşturma\n",
    "print(a)"
   ]
  },
  {
   "cell_type": "code",
   "execution_count": 14,
   "metadata": {},
   "outputs": [
    {
     "name": "stdout",
     "output_type": "stream",
     "text": [
      "[0.         0.11111111 0.22222222 0.33333333 0.44444444 0.55555556\n",
      " 0.66666667 0.77777778 0.88888889 1.        ]\n",
      "\n",
      "\n",
      "[1.         1.06666667 1.13333333 1.2        1.26666667 1.33333333\n",
      " 1.4        1.46666667 1.53333333 1.6        1.66666667 1.73333333\n",
      " 1.8        1.86666667 1.93333333]\n"
     ]
    }
   ],
   "source": [
    "a = np.linspace(0,1,10) #belli iki değer için belli bir aralıkta liste oluşturma\n",
    "print(a)\n",
    "\n",
    "print(\"\\n\")\n",
    "a = np.linspace(1,2, num=15,endpoint=False) #istenilen sayı kadar belli aralıkta matris oluşturma\n",
    "print(a)"
   ]
  },
  {
   "cell_type": "code",
   "execution_count": 20,
   "metadata": {},
   "outputs": [
    {
     "name": "stdout",
     "output_type": "stream",
     "text": [
      "[[20.3370573   0.55041222 10.93145578  8.19969219 22.39821782]\n",
      " [-2.07228258  3.99112296 10.95855764  6.53466559 15.51826254]\n",
      " [ 6.24467403 11.41495777 19.92042948  3.31171368 15.15758881]\n",
      " [16.1920326   3.52309175  1.97095501 15.23402632  7.70712985]]\n",
      "\n",
      "\n",
      "[[0 8 1]\n",
      " [7 3 1]\n",
      " [0 7 5]\n",
      " [4 2 1]\n",
      " [3 3 7]]\n",
      "\n",
      "\n",
      "[8 1 8 9 7 0 4 7 8 4]\n"
     ]
    },
    {
     "name": "stderr",
     "output_type": "stream",
     "text": [
      "/tmp/ipykernel_11218/480539450.py:5: DeprecationWarning: This function is deprecated. Please call randint(0, 8 + 1) instead\n",
      "  a = np.random.random_integers(0,8,(5,3)) #in\n"
     ]
    }
   ],
   "source": [
    "#random ile matris oluşturma\n",
    "a = np.random.normal(10,5,(4,5)) #float\n",
    "print(a)\n",
    "print(\"\\n\")\n",
    "a = np.random.random_integers(0,8,(5,3)) #in\n",
    "print(a)\n",
    "print(\"\\n\")\n",
    "a = np.random.randint(10,size=10) #istenilen aralık kadar\n",
    "print(a)"
   ]
  },
  {
   "attachments": {},
   "cell_type": "markdown",
   "metadata": {},
   "source": [
    "ÖZELLİKLER"
   ]
  },
  {
   "cell_type": "code",
   "execution_count": 23,
   "metadata": {},
   "outputs": [
    {
     "name": "stdout",
     "output_type": "stream",
     "text": [
      "[1 0 5 7 1]\n",
      "\n",
      "\n",
      "1\n",
      "(5,)\n",
      "5\n",
      "int64\n"
     ]
    }
   ],
   "source": [
    "a = np.random.randint(0,8,5)\n",
    "print(a)\n",
    "print(\"\\n\")\n",
    "print(a.ndim) #boyut sayısı\n",
    "print(a.shape) # ilk elemanlar\n",
    "print(a.size) #boyut\n",
    "print(a.dtype) #liste tipi"
   ]
  },
  {
   "cell_type": "code",
   "execution_count": 24,
   "metadata": {},
   "outputs": [
    {
     "name": "stdout",
     "output_type": "stream",
     "text": [
      "[[8 8 7 7]\n",
      " [7 7 4 8]]\n",
      "2\n",
      "8\n",
      "int64\n"
     ]
    }
   ],
   "source": [
    "a = np.random.randint(4,10,size=(2,4))\n",
    "print(a)\n",
    "print(a.ndim)\n",
    "print(a.size)\n",
    "print(a.dtype)"
   ]
  },
  {
   "attachments": {},
   "cell_type": "markdown",
   "metadata": {},
   "source": [
    "Yeniden Şekillendirme"
   ]
  },
  {
   "cell_type": "code",
   "execution_count": 26,
   "metadata": {},
   "outputs": [
    {
     "name": "stdout",
     "output_type": "stream",
     "text": [
      "[ 1.11536874 14.11425828 16.03241277 13.16689222 17.28660713  3.61054098\n",
      "  9.79671781  6.10984672  9.72637085 15.98164838  6.00261191 20.90393238\n",
      " 14.09871013 -5.48803239 11.83203226]\n",
      "1\n",
      "[[ 1.11536874 14.11425828 16.03241277 13.16689222 17.28660713]\n",
      " [ 3.61054098  9.79671781  6.10984672  9.72637085 15.98164838]\n",
      " [ 6.00261191 20.90393238 14.09871013 -5.48803239 11.83203226]]\n",
      "2\n"
     ]
    }
   ],
   "source": [
    "a = np.random.normal(10,5,15)\n",
    "print(a)\n",
    "print(a.ndim)\n",
    "a = a.reshape((3,5))\n",
    "print(a)\n",
    "print(a.ndim)"
   ]
  },
  {
   "attachments": {},
   "cell_type": "markdown",
   "metadata": {},
   "source": [
    "İşlemler"
   ]
  },
  {
   "cell_type": "code",
   "execution_count": 27,
   "metadata": {},
   "outputs": [
    {
     "name": "stdout",
     "output_type": "stream",
     "text": [
      "[1 2 3 4 5 6]\n",
      "[1 2 3 4 5 6 7 8 9]\n"
     ]
    }
   ],
   "source": [
    "#Array Birleştirme  - Concatenation\n",
    "import numpy as np\n",
    "x = np.array([1,2,3])\n",
    "y = np.array([4,5,6])\n",
    "print(np.concatenate([x,y]))\n",
    "z = np.array([7,8,9])\n",
    "print(np.concatenate([x,y,z]))"
   ]
  },
  {
   "cell_type": "code",
   "execution_count": 28,
   "metadata": {},
   "outputs": [
    {
     "name": "stdout",
     "output_type": "stream",
     "text": [
      "[ 7  4 11  6  9  9  8  3  4 11]\n",
      "None\n",
      "[ 1  1  6  7 10 11 12 13 13 14]\n"
     ]
    }
   ],
   "source": [
    "#Sıralama\n",
    "a = np.random.randint(1,15,10)\n",
    "print(a)\n",
    "b = np.random.randint(1,15,10)\n",
    "print(b.sort())\n",
    "print(b)"
   ]
  },
  {
   "cell_type": "code",
   "execution_count": 29,
   "metadata": {},
   "outputs": [
    {
     "name": "stdout",
     "output_type": "stream",
     "text": [
      "[[2 2 1 0 3]\n",
      " [4 2 5 4 6]\n",
      " [8 5 3 3 2]]\n",
      "\n",
      "\n",
      "3\n"
     ]
    }
   ],
   "source": [
    "m = np.random.randint(10,size=(3,5))\n",
    "print(m)\n",
    "print(\"\\n\")\n",
    "print(m[2,3])"
   ]
  },
  {
   "attachments": {},
   "cell_type": "markdown",
   "metadata": {},
   "source": [
    "İki Boyutlu Dizi İşlemleri"
   ]
  },
  {
   "cell_type": "code",
   "execution_count": 30,
   "metadata": {},
   "outputs": [
    {
     "name": "stdout",
     "output_type": "stream",
     "text": [
      "[[8 0 4 2 8]\n",
      " [3 6 1 7 8]\n",
      " [4 7 8 5 4]\n",
      " [7 3 9 0 4]\n",
      " [4 6 2 5 5]]\n"
     ]
    }
   ],
   "source": [
    "m = np.random.randint(10,size=(5,5))\n",
    "print(m)"
   ]
  },
  {
   "cell_type": "code",
   "execution_count": 40,
   "metadata": {},
   "outputs": [
    {
     "name": "stdout",
     "output_type": "stream",
     "text": [
      "[8 0 4 2 8]\n",
      "[4 2 8]\n",
      "[8 3 4 7 4]\n",
      "\n",
      "\n",
      "[[6 1 7]\n",
      " [7 8 5]\n",
      " [3 9 0]]\n",
      "\n",
      "\n",
      "[[6 1 7]\n",
      " [7 8 5]\n",
      " [3 9 0]]\n",
      "\n",
      "\n",
      "9\n",
      "[[False  True False]\n",
      " [False False False]\n",
      " [ True False  True]]\n"
     ]
    }
   ],
   "source": [
    "print(m[0])\n",
    "print(m[0,2:])\n",
    "print(m[:,0])\n",
    "\n",
    "print(\"\\n\")\n",
    "print(m[1:4,1:4])\n",
    "print(\"\\n\")\n",
    "altkume = m[1:4,1:4].copy()\n",
    "print(altkume)\n",
    "print(\"\\n\")\n",
    "print(altkume[2,1])\n",
    "print(altkume<5)"
   ]
  },
  {
   "attachments": {},
   "cell_type": "markdown",
   "metadata": {},
   "source": [
    "İstatiksel Hesaplamalar"
   ]
  },
  {
   "cell_type": "code",
   "execution_count": 65,
   "metadata": {},
   "outputs": [
    {
     "name": "stdout",
     "output_type": "stream",
     "text": [
      "5.111111111111111\n",
      "46\n",
      "8.765432098765432\n"
     ]
    }
   ],
   "source": [
    "print(np.mean(altkume))\n",
    "print(np.sum(altkume))\n",
    "print(np.var(altkume))"
   ]
  }
 ],
 "metadata": {
  "kernelspec": {
   "display_name": "Python 3",
   "language": "python",
   "name": "python3"
  },
  "language_info": {
   "codemirror_mode": {
    "name": "ipython",
    "version": 3
   },
   "file_extension": ".py",
   "mimetype": "text/x-python",
   "name": "python",
   "nbconvert_exporter": "python",
   "pygments_lexer": "ipython3",
   "version": "3.9.2"
  },
  "orig_nbformat": 4
 },
 "nbformat": 4,
 "nbformat_minor": 2
}
